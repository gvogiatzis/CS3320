{
  "nbformat": 4,
  "nbformat_minor": 0,
  "metadata": {
    "colab": {
      "name": "CS3320_Lab_01.ipynb",
      "provenance": [],
      "toc_visible": true,
      "authorship_tag": "ABX9TyP5b1/lGOmC1WNGgTCi9djn",
      "include_colab_link": true
    },
    "kernelspec": {
      "name": "python3",
      "display_name": "Python 3"
    },
    "language_info": {
      "name": "python"
    }
  },
  "cells": [
    {
      "cell_type": "markdown",
      "metadata": {
        "id": "view-in-github",
        "colab_type": "text"
      },
      "source": [
        "<a href=\"https://colab.research.google.com/github/gvogiatzis/CS3320/blob/main/CS3320_Lab_01.ipynb\" target=\"_parent\"><img src=\"https://colab.research.google.com/assets/colab-badge.svg\" alt=\"Open In Colab\"/></a>"
      ]
    },
    {
      "cell_type": "markdown",
      "source": [
        "# CS3320 Lab 1. Boolean and Ranked Retrieval"
      ],
      "metadata": {
        "id": "DESpApL3wrI8"
      }
    },
    {
      "cell_type": "markdown",
      "source": [
        "## Introduction\n",
        "In this lab we will explore some of the fundamental information retrieval concepts we saw in the lectures including indexing, ranked and boolean retrieval. You are given a small dataset of 737 news stories scraped from the **BBC Sports website** between 2004 and 2005 (full dataset [here](http://mlg.ucd.ie/datasets/bbc.html)). Your task is to write a basic search engine in Python, using the Ranked Retrieval model we talked about in lectures. \n",
        "Your engine should consist of an indexer which processes all documents and creates an index as well a query engine that takes a query string and returns a list of documents ranked by the order of tf-idf relevance score. We will begin by looking at *Boolean retrieval* and based on that you will write the code for the *ranked retrieval engine*"
      ],
      "metadata": {
        "id": "K7Mx8ns3xMFJ"
      }
    },
    {
      "cell_type": "markdown",
      "source": [
        "## The dataset\n",
        "Before we do anything else, let's have a look at the dataset I will assume you will have downloaded from blackboard the dataset *bbcsport.tar.gz* and unzipped it (`gunzip bbcsport.tar.gz` followed by `tar -xf bbcsport.tar`) in a convenient location. Go into that directory and have a look at some of the files using the `cat` command, i.e.\n",
        "\n",
        "    cat 000.txt\n",
        "\n",
        "should produce something like\n",
        "\n",
        "    McCall earns Tannadice reprieve\n",
        "\n",
        "    Dundee United manager Ian McCall has won a reprieve from the sack, with chairman Eddie Thompson calling for an end to speculation over his future...etc\n",
        "\n",
        "Now let's try to open and print the file in python. First, you need to import these modules that will be used throughout"
      ],
      "metadata": {
        "id": "SNU8cnntxTie"
      }
    },
    {
      "cell_type": "code",
      "source": [
        ""
      ],
      "metadata": {
        "id": "mMBr7ouixYbr"
      },
      "execution_count": null,
      "outputs": []
    }
  ]
}